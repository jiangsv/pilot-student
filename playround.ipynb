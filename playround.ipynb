{
 "cells": [
  {
   "cell_type": "code",
   "execution_count": 30,
   "metadata": {},
   "outputs": [],
   "source": [
    "class TreeNode:\n",
    "    def __init__(self, name='root', data=None, parent=None, children=None):\n",
    "        self.name = name\n",
    "        self.data = data\n",
    "        if parent:\n",
    "            assert isinstance(parent, TreeNode)\n",
    "            parent.add_child(self)\n",
    "        self.parent = parent\n",
    "        self.children = []\n",
    "        if children is not None:\n",
    "            for child in children:\n",
    "                self.add_child(child)\n",
    "\n",
    "    def add_child(self, node):\n",
    "        assert isinstance(node, TreeNode)\n",
    "        node.parent = self\n",
    "        self.children.append(node)\n",
    "        \n",
    "    def add_children(self, *nodes):\n",
    "        for node in nodes:\n",
    "            assert isinstance(node, TreeNode)\n",
    "            node.parent = self\n",
    "            self.children.append(node)\n",
    "            \n",
    "    def remove(self, node):\n",
    "        assert isinstance(node, TreeNode)            \n",
    "        if node in self.children:\n",
    "            for child in node.children:\n",
    "                node.children.remove(child)\n",
    "            self.children.remove(node)\n",
    "        else:\n",
    "            print('{node} is not child of {self}')\n",
    "#还没想好应该如何在不知道node的parent（self代表的TreeNode实例）是谁的情况下实现‘先查找，再删除’的功能。\n",
    "#如直接输入root.remove(a12) 而不是像写出来的method 写成a1.remove(a12)\n",
    "#然后又引出新的问题，竟然可以让不同的TreeNode对应相同的变量(a和c都有child--c4)和name(C4\")\n",
    "#出现上述问答题在使用self.find()时，应如何考虑？   \n",
    "#比如‘吉林省---吉林市’ 应该在树的结构里name=‘吉林’ 不同的Tier对应‘省’、‘市’。\n",
    "            \n",
    "    \n",
    "    def _get_tier(self, node, lst):\n",
    "        if node.parent:\n",
    "            lst.append(node.name)\n",
    "            root._get_tier(node.parent,lst)\n",
    "        return lst\n",
    "    \n",
    "    def get_tier(self,node):\n",
    "        lst = []\n",
    "        return len(root._get_tier(node, lst))\n",
    "        \n",
    "        \n",
    "    def move(self, node, new_parent):\n",
    "        assert isinstance(node, TreeNode)\n",
    "        node.parent = new_parent.name\n",
    "        new_parent.children.append(node)\n",
    "        self.children.remove(node)\n",
    "        \n",
    "    def find(self, name):\n",
    "        for child in self.children:\n",
    "            if child.name == name:\n",
    "                print(f\"{self.name}'s child {name} found\")\n",
    "            else:\n",
    "                if self.children and len(self.children):\n",
    "                    child.find(name)\n",
    "                    \n",
    "    def get_siblings(self, node):\n",
    "        assert isinstance(node, TreeNode)\n",
    "        if len(node.parent.children) == 1:\n",
    "            print(f'{node} has no sibling')\n",
    "        else:\n",
    "            for child in node.parent.children:\n",
    "                if child != node:\n",
    "                    print(f\"{node.name}'s silblings found {child.name}\")\n",
    "                    \n",
    "    def get_descendants(self, node):\n",
    "        assert isinstance(node, TreeNode)\n",
    "        if node.children:\n",
    "            for child in node.children:\n",
    "                print(f\"found {node.name}'s descendant {child.name}\")\n",
    "                self.get_descendants(child)       \n",
    "    \n",
    "    def _to_strings(self, xs, _prefix='', _last=True):\n",
    "        xs.append(''.join([_prefix, '|__ ' if _last else '|-- ', self.name]))\n",
    "        _prefix += '    ' if _last else '|   '\n",
    "        count = len(self.children)\n",
    "        for n, node in enumerate(self.children):\n",
    "            _last = n == (count-1)\n",
    "            node._to_strings(xs, _prefix, _last)\n",
    "    \n",
    "    def __repr__(self):\n",
    "        xs = [self.name]\n",
    "        for node in self.children[:-1]:\n",
    "            node._to_strings(xs, _last = False)\n",
    "        if self.children:\n",
    "#加入判断语句，避免出现没有children时下一列中self.children[-1]报错out of range  //是否合适呢？？\n",
    "            self.children[-1]._to_strings(xs, _last = True)\n",
    "        return '\\n'.join(xs)\n",
    "    \n",
    "    \n",
    "    def __str__(self):\n",
    "        return self.__repr__()\n",
    "        \n",
    "# 如method的运行和self无关的话，就用root作为Node了。如root.get_descendants(a)   root.get_siblings(b11)    root.find('C4')\n",
    "# 相反remove的method需要制定Node。如c.move(c1,b)"
   ]
  },
  {
   "cell_type": "code",
   "execution_count": 38,
   "metadata": {},
   "outputs": [],
   "source": [
    "root = TreeNode()\n",
    "a = TreeNode(name='A', parent=root)\n",
    "a1 = TreeNode(name='A1', parent=a)\n",
    "a2 = TreeNode(name='A2', parent=a)\n",
    "a11 = TreeNode(name='A11', parent=a1)\n",
    "a12 = TreeNode(name='A12', parent=a1)\n",
    "a13 = TreeNode(name='A13', parent=a1)\n",
    "a21 = TreeNode(name='A21', parent=a2)\n",
    "a22 = TreeNode(name='A22', parent=a2)\n",
    "a23 = TreeNode(name='A23', parent=a2)\n",
    "b = TreeNode(name='B', parent=root)\n",
    "b1 = TreeNode(name='B1', parent=b)\n",
    "b2 = TreeNode(name='B2', parent=b)\n",
    "b11 = TreeNode(name='B11', parent=b1)\n",
    "b12 = TreeNode(name='B12', parent=b1)\n",
    "b13 = TreeNode(name='B13', parent=b1)\n",
    "b21 = TreeNode(name='B21', parent=b2)\n",
    "b22 = TreeNode(name='B22', parent=b2)\n",
    "b23 = TreeNode(name='B23', parent=b2)\n",
    "c = TreeNode(name='C', parent=root)\n",
    "c1 = TreeNode(name='C1', parent=c)\n",
    "c2 = TreeNode(name='C2', parent=c)\n",
    "c11 = TreeNode(name='C11', parent=c1)\n",
    "c12 = TreeNode(name='C12', parent=c1)\n",
    "c13 = TreeNode(name='C13', parent=c1)\n",
    "c21 = TreeNode(name='C21', parent=c2)\n",
    "c3 = TreeNode(name='C3')\n",
    "c4 = TreeNode(name='C4')\n",
    "\n",
    "c.add_children(c3, c4)\n",
    "c4 = TreeNode(name='C4', parent=a)\n",
    "\n",
    "\n",
    "\n"
   ]
  },
  {
   "cell_type": "code",
   "execution_count": 39,
   "metadata": {},
   "outputs": [
    {
     "name": "stdout",
     "output_type": "stream",
     "text": [
      "found A's descendant A1\n",
      "found A1's descendant A11\n",
      "found A1's descendant A12\n",
      "found A1's descendant A13\n",
      "found A's descendant A2\n",
      "found A2's descendant A21\n",
      "found A2's descendant A22\n",
      "found A2's descendant A23\n",
      "found A's descendant C4\n",
      "B11's silblings found B12\n",
      "B11's silblings found B13\n",
      "A's child C4 found\n",
      "C's child C4 found\n"
     ]
    }
   ],
   "source": [
    "root.get_descendants(a)\n",
    "root.get_siblings(b11)\n",
    "root.find('C4')"
   ]
  },
  {
   "cell_type": "code",
   "execution_count": 33,
   "metadata": {},
   "outputs": [
    {
     "data": {
      "text/plain": [
       "2"
      ]
     },
     "execution_count": 33,
     "metadata": {},
     "output_type": "execute_result"
    }
   ],
   "source": [
    "root.get_tier(a1)"
   ]
  },
  {
   "cell_type": "code",
   "execution_count": 37,
   "metadata": {},
   "outputs": [
    {
     "data": {
      "text/plain": [
       "C4"
      ]
     },
     "execution_count": 37,
     "metadata": {},
     "output_type": "execute_result"
    }
   ],
   "source": [
    "c4"
   ]
  },
  {
   "cell_type": "code",
   "execution_count": 34,
   "metadata": {},
   "outputs": [
    {
     "data": {
      "text/plain": [
       "root\n",
       "|-- A\n",
       "|   |-- A1\n",
       "|   |   |-- A11\n",
       "|   |   |-- A12\n",
       "|   |   |__ A13\n",
       "|   |-- A2\n",
       "|   |   |-- A21\n",
       "|   |   |-- A22\n",
       "|   |   |__ A23\n",
       "|   |__ C4\n",
       "|-- B\n",
       "|   |-- B1\n",
       "|   |   |-- B11\n",
       "|   |   |-- B12\n",
       "|   |   |__ B13\n",
       "|   |-- B2\n",
       "|   |   |-- B21\n",
       "|   |   |-- B22\n",
       "|   |   |__ B23\n",
       "|   |__ C1\n",
       "|       |-- C11\n",
       "|       |-- C12\n",
       "|       |__ C13\n",
       "|__ C\n",
       "    |-- C2\n",
       "    |   |__ C21\n",
       "    |-- C3\n",
       "    |__ C66"
      ]
     },
     "execution_count": 34,
     "metadata": {},
     "output_type": "execute_result"
    }
   ],
   "source": [
    "c.move(c1,b)\n",
    "root"
   ]
  },
  {
   "cell_type": "code",
   "execution_count": 35,
   "metadata": {},
   "outputs": [
    {
     "data": {
      "text/plain": [
       "root\n",
       "|-- A\n",
       "|   |-- A1\n",
       "|   |   |-- A11\n",
       "|   |   |-- A12\n",
       "|   |   |__ A13\n",
       "|   |-- A2\n",
       "|   |   |-- A21\n",
       "|   |   |-- A22\n",
       "|   |   |__ A23\n",
       "|   |__ C4\n",
       "|__ B\n",
       "    |-- B1\n",
       "    |   |-- B11\n",
       "    |   |-- B12\n",
       "    |   |__ B13\n",
       "    |-- B2\n",
       "    |   |-- B21\n",
       "    |   |-- B22\n",
       "    |   |__ B23\n",
       "    |__ C1\n",
       "        |-- C11\n",
       "        |-- C12\n",
       "        |__ C13"
      ]
     },
     "execution_count": 35,
     "metadata": {},
     "output_type": "execute_result"
    }
   ],
   "source": [
    "root.remove(c)\n",
    "root"
   ]
  },
  {
   "cell_type": "code",
   "execution_count": 36,
   "metadata": {},
   "outputs": [
    {
     "data": {
      "text/plain": [
       "C4"
      ]
     },
     "execution_count": 36,
     "metadata": {},
     "output_type": "execute_result"
    }
   ],
   "source": [
    "c4"
   ]
  },
  {
   "cell_type": "code",
   "execution_count": null,
   "metadata": {},
   "outputs": [],
   "source": []
  },
  {
   "cell_type": "code",
   "execution_count": null,
   "metadata": {},
   "outputs": [],
   "source": []
  }
 ],
 "metadata": {
  "kernelspec": {
   "display_name": "Python 3",
   "language": "python",
   "name": "python3"
  },
  "language_info": {
   "codemirror_mode": {
    "name": "ipython",
    "version": 3
   },
   "file_extension": ".py",
   "mimetype": "text/x-python",
   "name": "python",
   "nbconvert_exporter": "python",
   "pygments_lexer": "ipython3",
   "version": "3.7.5"
  }
 },
 "nbformat": 4,
 "nbformat_minor": 4
}
